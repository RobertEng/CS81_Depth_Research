{
 "cells": [
  {
   "cell_type": "code",
   "execution_count": 2,
   "metadata": {
    "collapsed": true
   },
   "outputs": [],
   "source": [
    "# How to call the correct_lean function\n",
    "from postprocess_original_utils import correct_lean\n",
    "\n",
    "correct_lean(_human_dataset)"
   ]
  },
  {
   "cell_type": "code",
   "execution_count": 19,
   "metadata": {
    "collapsed": false
   },
   "outputs": [
    {
     "name": "stdout",
     "output_type": "stream",
     "text": [
      "Read in 601 HIT total assignments\n",
      "568 good, 33 flagged, 0 error, 0 rejected\n",
      "Relative depth ordering for Turkers associated with the data\n",
      "105812 images in human3.6 dataset\n",
      "568 annotations matched with ground truth\n",
      "Output data to /Users/Robert/Documents/Caltech/CS81_Depth_Research/results/human36m_processed_data.json\n"
     ]
    }
   ],
   "source": [
    "# How to reprocess the data instead of loading from a save\n",
    "from postprocess_original_utils import load_data\n",
    "\n",
    "data = load_data(load_from_file=False)"
   ]
  },
  {
   "cell_type": "code",
   "execution_count": 40,
   "metadata": {
    "collapsed": false
   },
   "outputs": [],
   "source": [
    "# Load results from caltech_results into python\n",
    "import json\n",
    "\n",
    "OLD_KEYCMPS = \"/Users/Robert/Documents/Caltech/EE148/ee148project/keycmps.json\"\n",
    "CALTECH_RESULTS = \"/Users/Robert/Documents/Caltech/CS81_Depth_Research/results/caltech_results.json\"\n",
    "\n",
    "caltech_results = json.load(open(CALTECH_RESULTS))\n",
    "old_keycmps = json.load(open(OLD_KEYCMPS))"
   ]
  },
  {
   "cell_type": "code",
   "execution_count": 51,
   "metadata": {
    "collapsed": false
   },
   "outputs": [],
   "source": [
    "# Convert caltech results into something consumable by the local server to get the mergesort ordering\n",
    "import json\n",
    "KEYCMPS_RESULT_PATH = \"/Users/Robert/Documents/Caltech/CS81_Depth_Research/results/caltech_results_keycmps.json\"\n",
    "\n",
    "temp = [map(json.loads, c['_hit_depth_str'].split(\"***\")[1:]) for c in caltech_results]\n",
    "keycmps = [item for t in temp for item in t]\n",
    "\n",
    "keycmp_orders = [k['keypoint_comparisons_order'] for k in keycmps]\n",
    "keycmp_reses = [k['keypoint_comparisons_res'] for k in keycmps]\n",
    "keycmps = {'keycmp_orders': keycmp_orders, 'keycmp_reses': keycmp_reses}\n",
    "\n",
    "with open(KEYCMPS_RESULT_PATH, 'w') as f:\n",
    "    f.write(json.dumps(keycmps))"
   ]
  },
  {
   "cell_type": "code",
   "execution_count": 41,
   "metadata": {
    "collapsed": false
   },
   "outputs": [],
   "source": [
    "import json\n",
    "# All the comparisons and hits for one person are squished into one hit. Separate them into multiple hits.\n",
    "unfolded_caltech_results = []\n",
    "temp = [map(json.loads, c['_hit_depth_str'].split(\"***\")[1:]) for c in caltech_results]\n",
    "for t, c in zip(temp, caltech_results):\n",
    "    for trial_ind, cmps in enumerate(t):\n",
    "        res_copy = c.copy()\n",
    "        keycmp_order = cmps['keypoint_comparisons_order']\n",
    "        keycmp_res = cmps['keypoint_comparisons_res']\n",
    "        # dumb format carried over from before\n",
    "        res_copy['trials'] = [{'depth':{}}]\n",
    "        res_copy['trials'][0]['depth']['keypoint_comparisons_order'] = keycmp_order\n",
    "        res_copy['trials'][0]['depth']['keypoint_comparisons_res'] = keycmp_res\n",
    "        res_copy['trials'][0]['trial_ind'] = trial_ind\n",
    "        unfolded_caltech_results.append(res_copy)\n",
    "\n",
    "# Take the mergesort ordering from the local server and reincorporate it into the original data\n",
    "KEYPTS_RELATIVE_DEPTH_PATH = \"/Users/Robert/Documents/Caltech/CS81_Depth_Research/results/caltech_results_keypts_relative_depth.json\"\n",
    "\n",
    "_relative_depth = json.load(open(KEYPTS_RELATIVE_DEPTH_PATH, 'r'))\n",
    "for d, kpts_relative_depth in zip(unfolded_caltech_results, _relative_depth):\n",
    "    d['trials'][0]['kpts_relative_depth'] = kpts_relative_depth"
   ]
  },
  {
   "cell_type": "code",
   "execution_count": 42,
   "metadata": {
    "collapsed": false
   },
   "outputs": [],
   "source": [
    "# For the newly separated hits, the img_id must be reassociated with it\n",
    "# All trial_inds above 0 should line up with this list\n",
    "miniexp_img_ids = [56833, 965922, 849671, 649263, 12750, 896082, 571176, 965922]\n",
    "\n",
    "# TODO: FIX THIS BUG. MISALIGNMENT OF NON MINIEXPERIMENT TECHERS\n",
    "for u in unfolded_caltech_results:\n",
    "    #if u['trials'][0]['trial_ind'] > 0:\n",
    "    u['trials'][0]['img_id'] = miniexp_img_ids[u['trials'][0]['trial_ind']]"
   ]
  },
  {
   "cell_type": "code",
   "execution_count": 43,
   "metadata": {
    "collapsed": false
   },
   "outputs": [
    {
     "name": "stdout",
     "output_type": "stream",
     "text": [
      "105812 images in human3.6 dataset\n",
      "78 annotations matched with ground truth\n"
     ]
    }
   ],
   "source": [
    "# Time to line up the hits with the ground truth human data. This is more or less the same as the \n",
    "# code from the original load data postprocess.\n",
    "import json\n",
    "import copy\n",
    "from postprocess_original_utils import correct_lean\n",
    "from constants import HUMAN_ANNOTATION_PATH\n",
    "\n",
    "img_ids = [c['trials'][0]['img_id'] for c in unfolded_caltech_results]\n",
    "\n",
    "# Get the ground truth annotations from human dataset\n",
    "with open(HUMAN_ANNOTATION_PATH) as f:\n",
    "    _human_dataset = json.load(f)\n",
    "    correct_lean(_human_dataset)\n",
    "\n",
    "for i in range(len(_human_dataset['images'])):\n",
    "    if _human_dataset['images'][i]['id'] in img_ids:\n",
    "        img_id_idxes = [img_id_idx for img_id_idx, img_id in enumerate(img_ids)\n",
    "                        if img_id == _human_dataset['images'][i]['id']]\n",
    "        for img_id_idx in img_id_idxes:\n",
    "            unfolded_caltech_results[img_id_idx]['images_truth'] = _human_dataset['images'][i]\n",
    "            unfolded_caltech_results[img_id_idx]['annotations_truth'] = copy.deepcopy(_human_dataset['annotations'][i])\n",
    "\n",
    "print \"{} images in human3.6 dataset\".format(len(_human_dataset['images']))\n",
    "print \"{} annotations matched with ground truth\".format(len(unfolded_caltech_results))\n",
    "\n",
    "# Remove the neck keypoint. Arrange the depth data in a useful way.\n",
    "for d in unfolded_caltech_results:\n",
    "    # Remove neck keypoint\n",
    "    d['annotations_truth']['kpts_2d'][2:4] = []\n",
    "    d['annotations_truth']['kpts_3d'][3:6] = []\n",
    "    # Grab every third kpts_3d which corresponds to depth\n",
    "    axis_to_sort = 1 # change this if it looks like we're sorting along the wrong axis\n",
    "    d['annotations_truth']['kpts_depth'] = d['annotations_truth']['kpts_3d'][axis_to_sort::3]\n",
    "    d['annotations_truth']['kpts_relative_depth'] = \\\n",
    "        [i[0] for i in sorted(enumerate(d['annotations_truth']['kpts_depth']), key=lambda x:x[1])]\n"
   ]
  },
  {
   "cell_type": "code",
   "execution_count": null,
   "metadata": {
    "collapsed": true
   },
   "outputs": [],
   "source": [
    "# Small aesthetic rename\n",
    "for d in unfolded_caltech_results:\n",
    "    d['worker_id'] = d['_worker_id']"
   ]
  },
  {
   "cell_type": "code",
   "execution_count": 44,
   "metadata": {
    "collapsed": false
   },
   "outputs": [
    {
     "name": "stdout",
     "output_type": "stream",
     "text": [
      "Output data to /Users/Robert/Documents/Caltech/CS81_Depth_Research/results/human36m_processed_caltech_data.json\n"
     ]
    }
   ],
   "source": [
    "# Finally write it to a file!\n",
    "import json\n",
    "CALTECH_OUTPUT_PATH = \"/Users/Robert/Documents/Caltech/CS81_Depth_Research/results/human36m_processed_caltech_data.json\"\n",
    "\n",
    "with open(CALTECH_OUTPUT_PATH, 'w') as f:\n",
    "    json.dump(unfolded_caltech_results, f)\n",
    "print \"Output data to {}\".format(CALTECH_OUTPUT_PATH)"
   ]
  },
  {
   "cell_type": "code",
   "execution_count": 24,
   "metadata": {
    "collapsed": false
   },
   "outputs": [
    {
     "data": {
      "text/plain": [
       "[u'worker_exp',\n",
       " u'hit_id',\n",
       " u'assignment_id',\n",
       " u'trials',\n",
       " u'hit_comment',\n",
       " u'annotations_truth',\n",
       " u'human_subj_ids',\n",
       " u'worker_id',\n",
       " u'hit_it',\n",
       " u'images_truth',\n",
       " u'gui_rating',\n",
       " u'response_time']"
      ]
     },
     "execution_count": 24,
     "metadata": {},
     "output_type": "execute_result"
    }
   ],
   "source": [
    "import json\n",
    "from constants import CALTECH_OUTPUT_PATH\n",
    "data = json.load(open(CALTECH_OUTPUT_PATH, 'r'))\n",
    "\n",
    "data[3]['annotations_truth']['i_id']\n",
    "set([d['_hit_comment'][:20] + \": \" + d['_worker_id'] for d in data])\n",
    "[d for d in data if d['_worker_id'] == 'nonAMT_368102']\n",
    "data[0].keys()\n",
    "\n",
    "from constants import HUMAN_OUTPUT_PATH\n",
    "data = json.load(open(HUMAN_OUTPUT_PATH, 'r'))\n",
    "data[0].keys()\n"
   ]
  },
  {
   "cell_type": "code",
   "execution_count": null,
   "metadata": {
    "collapsed": true
   },
   "outputs": [],
   "source": []
  }
 ],
 "metadata": {
  "kernelspec": {
   "display_name": "Python 2",
   "language": "python",
   "name": "python2"
  },
  "language_info": {
   "codemirror_mode": {
    "name": "ipython",
    "version": 2
   },
   "file_extension": ".py",
   "mimetype": "text/x-python",
   "name": "python",
   "nbconvert_exporter": "python",
   "pygments_lexer": "ipython2",
   "version": "2.7.13"
  }
 },
 "nbformat": 4,
 "nbformat_minor": 2
}

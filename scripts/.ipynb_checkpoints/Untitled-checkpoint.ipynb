{
 "cells": [
  {
   "cell_type": "code",
   "execution_count": 4,
   "metadata": {
    "collapsed": true
   },
   "outputs": [],
   "source": [
    "import json\n",
    "\n",
    "import postprocess_original_utils\n",
    "from constants import HUMAN_ANNOTATION_PATH\n"
   ]
  },
  {
   "cell_type": "code",
   "execution_count": 5,
   "metadata": {
    "collapsed": false
   },
   "outputs": [],
   "source": [
    "with open(HUMAN_ANNOTATION_PATH) as f:\n",
    "    _human_dataset = json.load(f)"
   ]
  },
  {
   "cell_type": "code",
   "execution_count": 13,
   "metadata": {
    "collapsed": false
   },
   "outputs": [
    {
     "data": {
      "text/plain": [
       "{u'keypoints': [u'head',\n",
       "  u'neck',\n",
       "  u'left_shoulder',\n",
       "  u'right_shoulder',\n",
       "  u'left_elbow',\n",
       "  u'right_elbow',\n",
       "  u'left_wrist',\n",
       "  u'right_wrist',\n",
       "  u'left_hip',\n",
       "  u'right_hip',\n",
       "  u'left_knee',\n",
       "  u'right_knee',\n",
       "  u'left_ankle',\n",
       "  u'right_ankle'],\n",
       " u'original_index': [15, 13, 17, 25, 18, 26, 19, 27, 6, 1, 7, 2, 8, 3],\n",
       " u'skeleton': [[0, 1],\n",
       "  [1, 2],\n",
       "  [1, 3],\n",
       "  [2, 4],\n",
       "  [3, 5],\n",
       "  [4, 6],\n",
       "  [5, 7],\n",
       "  [2, 8],\n",
       "  [3, 9],\n",
       "  [8, 10],\n",
       "  [9, 11],\n",
       "  [10, 12],\n",
       "  [11, 13]]}"
      ]
     },
     "execution_count": 13,
     "metadata": {},
     "output_type": "execute_result"
    }
   ],
   "source": [
    "_human_dataset.keys()\n",
    "# _human_dataset['pose'][0]"
   ]
  },
  {
   "cell_type": "code",
   "execution_count": null,
   "metadata": {
    "collapsed": true
   },
   "outputs": [],
   "source": []
  }
 ],
 "metadata": {
  "kernelspec": {
   "display_name": "Python 2",
   "language": "python",
   "name": "python2"
  },
  "language_info": {
   "codemirror_mode": {
    "name": "ipython",
    "version": 2
   },
   "file_extension": ".py",
   "mimetype": "text/x-python",
   "name": "python",
   "nbconvert_exporter": "python",
   "pygments_lexer": "ipython2",
   "version": "2.7.13"
  }
 },
 "nbformat": 4,
 "nbformat_minor": 2
}
